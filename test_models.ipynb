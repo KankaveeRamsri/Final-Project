{
 "cells": [
  {
   "cell_type": "code",
   "execution_count": 1,
   "metadata": {},
   "outputs": [
    {
     "name": "stdout",
     "output_type": "stream",
     "text": [
      "Requirement already satisfied: pycaret in /Library/Frameworks/Python.framework/Versions/3.11/lib/python3.11/site-packages (3.2.0)\n",
      "Requirement already satisfied: category-encoders>=2.4.0 in /Library/Frameworks/Python.framework/Versions/3.11/lib/python3.11/site-packages (from pycaret) (2.6.3)\n",
      "Requirement already satisfied: cloudpickle in /Library/Frameworks/Python.framework/Versions/3.11/lib/python3.11/site-packages (from pycaret) (3.0.0)\n",
      "Requirement already satisfied: deprecation>=2.1.0 in /Library/Frameworks/Python.framework/Versions/3.11/lib/python3.11/site-packages (from pycaret) (2.1.0)\n",
      "Requirement already satisfied: imbalanced-learn>=0.8.1 in /Library/Frameworks/Python.framework/Versions/3.11/lib/python3.11/site-packages (from pycaret) (0.12.0)\n",
      "Requirement already satisfied: importlib-metadata>=4.12.0 in /Library/Frameworks/Python.framework/Versions/3.11/lib/python3.11/site-packages (from pycaret) (7.0.1)\n",
      "Requirement already satisfied: ipython>=5.5.0 in /Users/balast/Library/Python/3.11/lib/python/site-packages (from pycaret) (8.21.0)\n",
      "Requirement already satisfied: ipywidgets>=7.6.5 in /Library/Frameworks/Python.framework/Versions/3.11/lib/python3.11/site-packages (from pycaret) (8.1.2)\n",
      "Requirement already satisfied: jinja2>=1.2 in /Library/Frameworks/Python.framework/Versions/3.11/lib/python3.11/site-packages (from pycaret) (3.1.3)\n",
      "Requirement already satisfied: joblib>=1.2.0 in /Library/Frameworks/Python.framework/Versions/3.11/lib/python3.11/site-packages (from pycaret) (1.3.2)\n",
      "Requirement already satisfied: kaleido>=0.2.1 in /Library/Frameworks/Python.framework/Versions/3.11/lib/python3.11/site-packages (from pycaret) (0.2.1)\n",
      "Requirement already satisfied: lightgbm>=3.0.0 in /Library/Frameworks/Python.framework/Versions/3.11/lib/python3.11/site-packages (from pycaret) (4.3.0)\n",
      "Requirement already satisfied: markupsafe>=2.0.1 in /Library/Frameworks/Python.framework/Versions/3.11/lib/python3.11/site-packages (from pycaret) (2.1.5)\n",
      "Requirement already satisfied: matplotlib<=3.6,>=3.3.0 in /Library/Frameworks/Python.framework/Versions/3.11/lib/python3.11/site-packages (from pycaret) (3.6.0)\n",
      "Requirement already satisfied: nbformat>=4.2.0 in /Library/Frameworks/Python.framework/Versions/3.11/lib/python3.11/site-packages (from pycaret) (5.9.2)\n",
      "Requirement already satisfied: numba>=0.55.0 in /Library/Frameworks/Python.framework/Versions/3.11/lib/python3.11/site-packages (from pycaret) (0.59.0)\n",
      "Requirement already satisfied: numpy<1.27,>=1.21 in /Library/Frameworks/Python.framework/Versions/3.11/lib/python3.11/site-packages (from pycaret) (1.25.2)\n",
      "Requirement already satisfied: pandas<2.0.0,>=1.3.0 in /Library/Frameworks/Python.framework/Versions/3.11/lib/python3.11/site-packages (from pycaret) (1.5.3)\n",
      "Requirement already satisfied: plotly-resampler>=0.8.3.1 in /Library/Frameworks/Python.framework/Versions/3.11/lib/python3.11/site-packages (from pycaret) (0.9.2)\n",
      "Requirement already satisfied: plotly>=5.0.0 in /Library/Frameworks/Python.framework/Versions/3.11/lib/python3.11/site-packages (from pycaret) (5.18.0)\n",
      "Requirement already satisfied: pmdarima!=1.8.1,<3.0.0,>=1.8.0 in /Library/Frameworks/Python.framework/Versions/3.11/lib/python3.11/site-packages (from pycaret) (2.0.4)\n",
      "Requirement already satisfied: psutil>=5.9.0 in /Users/balast/Library/Python/3.11/lib/python/site-packages (from pycaret) (5.9.8)\n",
      "Requirement already satisfied: pyod>=1.0.8 in /Library/Frameworks/Python.framework/Versions/3.11/lib/python3.11/site-packages (from pycaret) (1.1.3)\n",
      "Requirement already satisfied: requests>=2.27.1 in /Library/Frameworks/Python.framework/Versions/3.11/lib/python3.11/site-packages (from pycaret) (2.31.0)\n",
      "Requirement already satisfied: schemdraw==0.15 in /Library/Frameworks/Python.framework/Versions/3.11/lib/python3.11/site-packages (from pycaret) (0.15)\n",
      "Requirement already satisfied: scikit-learn<1.3.0,>=1.0 in /Library/Frameworks/Python.framework/Versions/3.11/lib/python3.11/site-packages (from pycaret) (1.2.2)\n",
      "Requirement already satisfied: scikit-plot>=0.3.7 in /Library/Frameworks/Python.framework/Versions/3.11/lib/python3.11/site-packages (from pycaret) (0.3.7)\n",
      "Requirement already satisfied: scipy~=1.10.1 in /Library/Frameworks/Python.framework/Versions/3.11/lib/python3.11/site-packages (from pycaret) (1.10.1)\n",
      "Requirement already satisfied: sktime!=0.17.1,!=0.17.2,!=0.18.0,<0.22.0,>=0.16.1 in /Library/Frameworks/Python.framework/Versions/3.11/lib/python3.11/site-packages (from pycaret) (0.21.1)\n",
      "Requirement already satisfied: statsmodels>=0.12.1 in /Library/Frameworks/Python.framework/Versions/3.11/lib/python3.11/site-packages (from pycaret) (0.14.1)\n",
      "Requirement already satisfied: tbats>=1.1.3 in /Library/Frameworks/Python.framework/Versions/3.11/lib/python3.11/site-packages (from pycaret) (1.1.3)\n",
      "Requirement already satisfied: tqdm>=4.62.0 in /Library/Frameworks/Python.framework/Versions/3.11/lib/python3.11/site-packages (from pycaret) (4.66.2)\n",
      "Requirement already satisfied: xxhash in /Library/Frameworks/Python.framework/Versions/3.11/lib/python3.11/site-packages (from pycaret) (3.4.1)\n",
      "Requirement already satisfied: yellowbrick>=1.4 in /Library/Frameworks/Python.framework/Versions/3.11/lib/python3.11/site-packages (from pycaret) (1.5)\n",
      "Requirement already satisfied: wurlitzer in /Library/Frameworks/Python.framework/Versions/3.11/lib/python3.11/site-packages (from pycaret) (3.0.3)\n",
      "Requirement already satisfied: patsy>=0.5.1 in /Library/Frameworks/Python.framework/Versions/3.11/lib/python3.11/site-packages (from category-encoders>=2.4.0->pycaret) (0.5.6)\n",
      "Requirement already satisfied: packaging in /Users/balast/Library/Python/3.11/lib/python/site-packages (from deprecation>=2.1.0->pycaret) (23.2)\n",
      "Requirement already satisfied: threadpoolctl>=2.0.0 in /Library/Frameworks/Python.framework/Versions/3.11/lib/python3.11/site-packages (from imbalanced-learn>=0.8.1->pycaret) (3.3.0)\n",
      "Requirement already satisfied: zipp>=0.5 in /Library/Frameworks/Python.framework/Versions/3.11/lib/python3.11/site-packages (from importlib-metadata>=4.12.0->pycaret) (3.17.0)\n",
      "Requirement already satisfied: decorator in /Users/balast/Library/Python/3.11/lib/python/site-packages (from ipython>=5.5.0->pycaret) (5.1.1)\n",
      "Requirement already satisfied: jedi>=0.16 in /Users/balast/Library/Python/3.11/lib/python/site-packages (from ipython>=5.5.0->pycaret) (0.19.1)\n",
      "Requirement already satisfied: matplotlib-inline in /Users/balast/Library/Python/3.11/lib/python/site-packages (from ipython>=5.5.0->pycaret) (0.1.6)\n",
      "Requirement already satisfied: prompt-toolkit<3.1.0,>=3.0.41 in /Users/balast/Library/Python/3.11/lib/python/site-packages (from ipython>=5.5.0->pycaret) (3.0.43)\n",
      "Requirement already satisfied: pygments>=2.4.0 in /Users/balast/Library/Python/3.11/lib/python/site-packages (from ipython>=5.5.0->pycaret) (2.17.2)\n",
      "Requirement already satisfied: stack-data in /Users/balast/Library/Python/3.11/lib/python/site-packages (from ipython>=5.5.0->pycaret) (0.6.3)\n",
      "Requirement already satisfied: traitlets>=5 in /Users/balast/Library/Python/3.11/lib/python/site-packages (from ipython>=5.5.0->pycaret) (5.14.1)\n",
      "Requirement already satisfied: pexpect>4.3 in /Users/balast/Library/Python/3.11/lib/python/site-packages (from ipython>=5.5.0->pycaret) (4.9.0)\n",
      "Requirement already satisfied: comm>=0.1.3 in /Users/balast/Library/Python/3.11/lib/python/site-packages (from ipywidgets>=7.6.5->pycaret) (0.2.1)\n",
      "Requirement already satisfied: widgetsnbextension~=4.0.10 in /Library/Frameworks/Python.framework/Versions/3.11/lib/python3.11/site-packages (from ipywidgets>=7.6.5->pycaret) (4.0.10)\n",
      "Requirement already satisfied: jupyterlab-widgets~=3.0.10 in /Library/Frameworks/Python.framework/Versions/3.11/lib/python3.11/site-packages (from ipywidgets>=7.6.5->pycaret) (3.0.10)\n",
      "Requirement already satisfied: contourpy>=1.0.1 in /Library/Frameworks/Python.framework/Versions/3.11/lib/python3.11/site-packages (from matplotlib<=3.6,>=3.3.0->pycaret) (1.2.0)\n",
      "Requirement already satisfied: cycler>=0.10 in /Library/Frameworks/Python.framework/Versions/3.11/lib/python3.11/site-packages (from matplotlib<=3.6,>=3.3.0->pycaret) (0.12.1)\n",
      "Requirement already satisfied: fonttools>=4.22.0 in /Library/Frameworks/Python.framework/Versions/3.11/lib/python3.11/site-packages (from matplotlib<=3.6,>=3.3.0->pycaret) (4.48.1)\n",
      "Requirement already satisfied: kiwisolver>=1.0.1 in /Library/Frameworks/Python.framework/Versions/3.11/lib/python3.11/site-packages (from matplotlib<=3.6,>=3.3.0->pycaret) (1.4.5)\n",
      "Requirement already satisfied: pillow>=6.2.0 in /Library/Frameworks/Python.framework/Versions/3.11/lib/python3.11/site-packages (from matplotlib<=3.6,>=3.3.0->pycaret) (10.2.0)\n",
      "Requirement already satisfied: pyparsing>=2.2.1 in /Library/Frameworks/Python.framework/Versions/3.11/lib/python3.11/site-packages (from matplotlib<=3.6,>=3.3.0->pycaret) (3.1.1)\n",
      "Requirement already satisfied: python-dateutil>=2.7 in /Users/balast/Library/Python/3.11/lib/python/site-packages (from matplotlib<=3.6,>=3.3.0->pycaret) (2.8.2)\n",
      "Requirement already satisfied: fastjsonschema in /Library/Frameworks/Python.framework/Versions/3.11/lib/python3.11/site-packages (from nbformat>=4.2.0->pycaret) (2.19.1)\n",
      "Requirement already satisfied: jsonschema>=2.6 in /Library/Frameworks/Python.framework/Versions/3.11/lib/python3.11/site-packages (from nbformat>=4.2.0->pycaret) (4.21.1)\n",
      "Requirement already satisfied: jupyter-core in /Users/balast/Library/Python/3.11/lib/python/site-packages (from nbformat>=4.2.0->pycaret) (5.7.1)\n",
      "Requirement already satisfied: llvmlite<0.43,>=0.42.0dev0 in /Library/Frameworks/Python.framework/Versions/3.11/lib/python3.11/site-packages (from numba>=0.55.0->pycaret) (0.42.0)\n",
      "Requirement already satisfied: pytz>=2020.1 in /Library/Frameworks/Python.framework/Versions/3.11/lib/python3.11/site-packages (from pandas<2.0.0,>=1.3.0->pycaret) (2024.1)\n",
      "Requirement already satisfied: tenacity>=6.2.0 in /Library/Frameworks/Python.framework/Versions/3.11/lib/python3.11/site-packages (from plotly>=5.0.0->pycaret) (8.2.3)\n",
      "Requirement already satisfied: dash>=2.9.0 in /Library/Frameworks/Python.framework/Versions/3.11/lib/python3.11/site-packages (from plotly-resampler>=0.8.3.1->pycaret) (2.15.0)\n",
      "Requirement already satisfied: orjson<4.0.0,>=3.8.0 in /Library/Frameworks/Python.framework/Versions/3.11/lib/python3.11/site-packages (from plotly-resampler>=0.8.3.1->pycaret) (3.9.14)\n",
      "Requirement already satisfied: tsdownsample==0.1.2 in /Library/Frameworks/Python.framework/Versions/3.11/lib/python3.11/site-packages (from plotly-resampler>=0.8.3.1->pycaret) (0.1.2)\n",
      "Requirement already satisfied: Cython!=0.29.18,!=0.29.31,>=0.29 in /Library/Frameworks/Python.framework/Versions/3.11/lib/python3.11/site-packages (from pmdarima!=1.8.1,<3.0.0,>=1.8.0->pycaret) (3.0.8)\n",
      "Requirement already satisfied: urllib3 in /Library/Frameworks/Python.framework/Versions/3.11/lib/python3.11/site-packages (from pmdarima!=1.8.1,<3.0.0,>=1.8.0->pycaret) (2.2.0)\n",
      "Requirement already satisfied: setuptools!=50.0.0,>=38.6.0 in /Library/Frameworks/Python.framework/Versions/3.11/lib/python3.11/site-packages (from pmdarima!=1.8.1,<3.0.0,>=1.8.0->pycaret) (65.5.0)\n",
      "Requirement already satisfied: six in /Users/balast/Library/Python/3.11/lib/python/site-packages (from pyod>=1.0.8->pycaret) (1.16.0)\n",
      "Requirement already satisfied: charset-normalizer<4,>=2 in /Library/Frameworks/Python.framework/Versions/3.11/lib/python3.11/site-packages (from requests>=2.27.1->pycaret) (3.3.2)\n",
      "Requirement already satisfied: idna<4,>=2.5 in /Library/Frameworks/Python.framework/Versions/3.11/lib/python3.11/site-packages (from requests>=2.27.1->pycaret) (3.6)\n",
      "Requirement already satisfied: certifi>=2017.4.17 in /Library/Frameworks/Python.framework/Versions/3.11/lib/python3.11/site-packages (from requests>=2.27.1->pycaret) (2024.2.2)\n",
      "Requirement already satisfied: deprecated>=1.2.13 in /Library/Frameworks/Python.framework/Versions/3.11/lib/python3.11/site-packages (from sktime!=0.17.1,!=0.17.2,!=0.18.0,<0.22.0,>=0.16.1->pycaret) (1.2.14)\n",
      "Requirement already satisfied: scikit-base<0.6.0 in /Library/Frameworks/Python.framework/Versions/3.11/lib/python3.11/site-packages (from sktime!=0.17.1,!=0.17.2,!=0.18.0,<0.22.0,>=0.16.1->pycaret) (0.5.2)\n",
      "Requirement already satisfied: Flask<3.1,>=1.0.4 in /Library/Frameworks/Python.framework/Versions/3.11/lib/python3.11/site-packages (from dash>=2.9.0->plotly-resampler>=0.8.3.1->pycaret) (3.0.2)\n",
      "Requirement already satisfied: Werkzeug<3.1 in /Library/Frameworks/Python.framework/Versions/3.11/lib/python3.11/site-packages (from dash>=2.9.0->plotly-resampler>=0.8.3.1->pycaret) (3.0.1)\n",
      "Requirement already satisfied: dash-html-components==2.0.0 in /Library/Frameworks/Python.framework/Versions/3.11/lib/python3.11/site-packages (from dash>=2.9.0->plotly-resampler>=0.8.3.1->pycaret) (2.0.0)\n",
      "Requirement already satisfied: dash-core-components==2.0.0 in /Library/Frameworks/Python.framework/Versions/3.11/lib/python3.11/site-packages (from dash>=2.9.0->plotly-resampler>=0.8.3.1->pycaret) (2.0.0)\n",
      "Requirement already satisfied: dash-table==5.0.0 in /Library/Frameworks/Python.framework/Versions/3.11/lib/python3.11/site-packages (from dash>=2.9.0->plotly-resampler>=0.8.3.1->pycaret) (5.0.0)\n",
      "Requirement already satisfied: typing-extensions>=4.1.1 in /Library/Frameworks/Python.framework/Versions/3.11/lib/python3.11/site-packages (from dash>=2.9.0->plotly-resampler>=0.8.3.1->pycaret) (4.9.0)\n",
      "Requirement already satisfied: retrying in /Library/Frameworks/Python.framework/Versions/3.11/lib/python3.11/site-packages (from dash>=2.9.0->plotly-resampler>=0.8.3.1->pycaret) (1.3.4)\n",
      "Requirement already satisfied: nest-asyncio in /Users/balast/Library/Python/3.11/lib/python/site-packages (from dash>=2.9.0->plotly-resampler>=0.8.3.1->pycaret) (1.6.0)\n",
      "Requirement already satisfied: wrapt<2,>=1.10 in /Library/Frameworks/Python.framework/Versions/3.11/lib/python3.11/site-packages (from deprecated>=1.2.13->sktime!=0.17.1,!=0.17.2,!=0.18.0,<0.22.0,>=0.16.1->pycaret) (1.16.0)\n",
      "Requirement already satisfied: parso<0.9.0,>=0.8.3 in /Users/balast/Library/Python/3.11/lib/python/site-packages (from jedi>=0.16->ipython>=5.5.0->pycaret) (0.8.3)\n",
      "Requirement already satisfied: attrs>=22.2.0 in /Library/Frameworks/Python.framework/Versions/3.11/lib/python3.11/site-packages (from jsonschema>=2.6->nbformat>=4.2.0->pycaret) (23.2.0)\n",
      "Requirement already satisfied: jsonschema-specifications>=2023.03.6 in /Library/Frameworks/Python.framework/Versions/3.11/lib/python3.11/site-packages (from jsonschema>=2.6->nbformat>=4.2.0->pycaret) (2023.12.1)\n",
      "Requirement already satisfied: referencing>=0.28.4 in /Library/Frameworks/Python.framework/Versions/3.11/lib/python3.11/site-packages (from jsonschema>=2.6->nbformat>=4.2.0->pycaret) (0.33.0)\n",
      "Requirement already satisfied: rpds-py>=0.7.1 in /Library/Frameworks/Python.framework/Versions/3.11/lib/python3.11/site-packages (from jsonschema>=2.6->nbformat>=4.2.0->pycaret) (0.18.0)\n",
      "Requirement already satisfied: ptyprocess>=0.5 in /Users/balast/Library/Python/3.11/lib/python/site-packages (from pexpect>4.3->ipython>=5.5.0->pycaret) (0.7.0)\n",
      "Requirement already satisfied: wcwidth in /Users/balast/Library/Python/3.11/lib/python/site-packages (from prompt-toolkit<3.1.0,>=3.0.41->ipython>=5.5.0->pycaret) (0.2.13)\n",
      "Requirement already satisfied: platformdirs>=2.5 in /Users/balast/Library/Python/3.11/lib/python/site-packages (from jupyter-core->nbformat>=4.2.0->pycaret) (4.2.0)\n",
      "Requirement already satisfied: executing>=1.2.0 in /Users/balast/Library/Python/3.11/lib/python/site-packages (from stack-data->ipython>=5.5.0->pycaret) (2.0.1)\n",
      "Requirement already satisfied: asttokens>=2.1.0 in /Users/balast/Library/Python/3.11/lib/python/site-packages (from stack-data->ipython>=5.5.0->pycaret) (2.4.1)\n",
      "Requirement already satisfied: pure-eval in /Users/balast/Library/Python/3.11/lib/python/site-packages (from stack-data->ipython>=5.5.0->pycaret) (0.2.2)\n",
      "Requirement already satisfied: itsdangerous>=2.1.2 in /Library/Frameworks/Python.framework/Versions/3.11/lib/python3.11/site-packages (from Flask<3.1,>=1.0.4->dash>=2.9.0->plotly-resampler>=0.8.3.1->pycaret) (2.1.2)\n",
      "Requirement already satisfied: click>=8.1.3 in /Library/Frameworks/Python.framework/Versions/3.11/lib/python3.11/site-packages (from Flask<3.1,>=1.0.4->dash>=2.9.0->plotly-resampler>=0.8.3.1->pycaret) (8.1.7)\n",
      "Requirement already satisfied: blinker>=1.6.2 in /Library/Frameworks/Python.framework/Versions/3.11/lib/python3.11/site-packages (from Flask<3.1,>=1.0.4->dash>=2.9.0->plotly-resampler>=0.8.3.1->pycaret) (1.7.0)\n",
      "Note: you may need to restart the kernel to use updated packages.\n"
     ]
    }
   ],
   "source": [
    "%pip install pycaret"
   ]
  },
  {
   "cell_type": "code",
   "execution_count": 96,
   "metadata": {},
   "outputs": [
    {
     "name": "stdout",
     "output_type": "stream",
     "text": [
      "Transformation Pipeline and Model Successfully Loaded\n"
     ]
    }
   ],
   "source": [
    "from pycaret.regression import * \n",
    "model = load_model('model/Final_Model_PM25')"
   ]
  },
  {
   "cell_type": "code",
   "execution_count": 97,
   "metadata": {},
   "outputs": [],
   "source": [
    "import pandas as pd\n",
    "latest_data = pd.read_csv('Clean_Data/Clean_data44t_Hatyai.csv')"
   ]
  },
  {
   "cell_type": "code",
   "execution_count": 98,
   "metadata": {},
   "outputs": [],
   "source": [
    "from datetime import *\n",
    "start_datetime = datetime(2024, 3, 15, 0, 0, 0)"
   ]
  },
  {
   "cell_type": "code",
   "execution_count": 99,
   "metadata": {},
   "outputs": [],
   "source": [
    "target_date = datetime(2024, 3, 10)"
   ]
  },
  {
   "cell_type": "code",
   "execution_count": 100,
   "metadata": {},
   "outputs": [],
   "source": [
    "import pandas as pd \n",
    "predictions = pd.DataFrame()"
   ]
  },
  {
   "cell_type": "code",
   "execution_count": 101,
   "metadata": {},
   "outputs": [],
   "source": [
    "added_times = set()"
   ]
  },
  {
   "cell_type": "code",
   "execution_count": 105,
   "metadata": {},
   "outputs": [
    {
     "name": "stdout",
     "output_type": "stream",
     "text": [
      "Adding prediction for 2024-03-15 00:00:00\n",
      "Adding prediction for 2024-03-15 01:00:00\n",
      "Adding prediction for 2024-03-15 02:00:00\n",
      "Adding prediction for 2024-03-15 03:00:00\n",
      "Adding prediction for 2024-03-15 04:00:00\n",
      "Adding prediction for 2024-03-15 05:00:00\n",
      "Adding prediction for 2024-03-15 06:00:00\n",
      "Adding prediction for 2024-03-15 07:00:00\n",
      "Adding prediction for 2024-03-15 08:00:00\n",
      "Adding prediction for 2024-03-15 09:00:00\n",
      "Adding prediction for 2024-03-15 10:00:00\n",
      "Adding prediction for 2024-03-15 11:00:00\n",
      "Adding prediction for 2024-03-15 12:00:00\n",
      "Adding prediction for 2024-03-15 13:00:00\n",
      "Adding prediction for 2024-03-15 14:00:00\n",
      "Adding prediction for 2024-03-15 15:00:00\n",
      "Adding prediction for 2024-03-15 16:00:00\n",
      "Adding prediction for 2024-03-15 17:00:00\n",
      "Adding prediction for 2024-03-15 18:00:00\n",
      "Adding prediction for 2024-03-15 19:00:00\n",
      "Adding prediction for 2024-03-15 20:00:00\n",
      "Adding prediction for 2024-03-15 21:00:00\n",
      "Adding prediction for 2024-03-15 22:00:00\n",
      "Adding prediction for 2024-03-15 23:00:00\n"
     ]
    }
   ],
   "source": [
    "# วนลูปทำนายค่า PM2.5 สำหรับ 24 ชั่วโมงของวันที่ต้องการ\n",
    "for i in range(24):\n",
    "    # อัปเดตเวลาสำหรับข้อมูลในการทำนาย\n",
    "    current_datetime = start_datetime + timedelta(hours=i)\n",
    "    formatted_datetime = current_datetime.strftime('%Y-%m-%d %H:%M:%S')\n",
    "    print(f\"Adding prediction for {formatted_datetime}\")\n",
    "    # ตรวจสอบว่าเวลานี้ถูกเพิ่มแล้วหรือไม่\n",
    "    if formatted_datetime in added_times:\n",
    "        continue  # ถ้าเพิ่มแล้ว, ข้ามการทำนายนี้\n",
    "    added_times.add(formatted_datetime)  # บันทึกเวลาที่เพิ่ม\n",
    "    \n",
    "    # สร้างข้อมูลอินพุตใหม่สำหรับการทำนาย\n",
    "    input_data = latest_data.tail(24).copy()  # ใช้ข้อมูล 24 ชั่วโมงล่าสุด\n",
    "    input_data['DATETIMEDATA'] = formatted_datetime\n",
    "   \n",
    "    # ทำนายค่า PM2.5 สำหรับชั่วโมงถัดไป\n",
    "    prediction = predict_model(model, data=input_data)\n",
    "    prediction['DATETIMEDATA'] = formatted_datetime\n",
    "    \n",
    "    # เพิ่มผลการทำนายลงใน predictions DataFrame\n",
    "    predictions = pd.concat([predictions, prediction[['DATETIMEDATA', 'prediction_label']]], ignore_index=True)"
   ]
  },
  {
   "cell_type": "code",
   "execution_count": 106,
   "metadata": {},
   "outputs": [
    {
     "name": "stdout",
     "output_type": "stream",
     "text": [
      "{'2024-03-17 13:00:00', '2024-03-21 18:00:00', '2024-03-18 06:00:00', '2024-03-19 15:00:00', '2024-03-18 15:00:00', '2024-03-17 21:00:00', '2024-03-19 18:00:00', '2024-03-21 15:00:00', '2024-03-18 02:00:00', '2024-03-15 18:00:00', '2024-03-16 22:00:00', '2024-03-22 02:00:00', '2024-03-23 19:00:00', '2024-03-24 03:00:00', '2024-03-24 23:00:00', '2024-03-21 02:00:00', '2024-03-23 09:00:00', '2024-03-18 14:00:00', '2024-03-22 14:00:00', '2024-03-24 18:00:00', '2024-03-15 00:00:00', '2024-03-18 20:00:00', '2024-03-21 19:00:00', '2024-03-15 20:00:00', '2024-03-21 11:00:00', '2024-03-23 05:00:00', '2024-03-22 08:00:00', '2024-03-23 12:00:00', '2024-03-19 10:00:00', '2024-03-17 02:00:00', '2024-03-18 19:00:00', '2024-03-20 11:00:00', '2024-03-18 10:00:00', '2024-03-20 16:00:00', '2024-03-20 05:00:00', '2024-03-16 14:00:00', '2024-03-17 14:00:00', '2024-03-19 23:00:00', '2024-03-24 15:00:00', '2024-03-17 20:00:00', '2024-03-18 11:00:00', '2024-03-18 16:00:00', '2024-03-17 07:00:00', '2024-03-22 01:00:00', '2024-03-20 03:00:00', '2024-03-16 10:00:00', '2024-03-17 03:00:00', '2024-03-19 03:00:00', '2024-03-23 01:00:00', '2024-03-16 04:00:00', '2024-03-20 13:00:00', '2024-03-15 03:00:00', '2024-03-15 15:00:00', '2024-03-22 23:00:00', '2024-03-23 15:00:00', '2024-03-16 18:00:00', '2024-03-19 21:00:00', '2024-03-21 23:00:00', '2024-03-24 13:00:00', '2024-03-16 01:00:00', '2024-03-24 08:00:00', '2024-03-16 11:00:00', '2024-03-17 04:00:00', '2024-03-19 08:00:00', '2024-03-20 07:00:00', '2024-03-20 21:00:00', '2024-03-21 09:00:00', '2024-03-17 12:00:00', '2024-03-19 16:00:00', '2024-03-22 10:00:00', '2024-03-15 16:00:00', '2024-03-20 23:00:00', '2024-03-20 19:00:00', '2024-03-24 14:00:00', '2024-03-16 17:00:00', '2024-03-16 02:00:00', '2024-03-23 14:00:00', '2024-03-24 12:00:00', '2024-03-16 08:00:00', '2024-03-21 08:00:00', '2024-03-15 13:00:00', '2024-03-17 01:00:00', '2024-03-18 12:00:00', '2024-03-22 05:00:00', '2024-03-18 21:00:00', '2024-03-20 04:00:00', '2024-03-22 03:00:00', '2024-03-22 15:00:00', '2024-03-19 22:00:00', '2024-03-21 21:00:00', '2024-03-19 07:00:00', '2024-03-16 12:00:00', '2024-03-24 02:00:00', '2024-03-24 09:00:00', '2024-03-19 13:00:00', '2024-03-19 06:00:00', '2024-03-24 01:00:00', '2024-03-19 02:00:00', '2024-03-20 12:00:00', '2024-03-23 17:00:00', '2024-03-15 02:00:00', '2024-03-22 09:00:00', '2024-03-22 22:00:00', '2024-03-17 19:00:00', '2024-03-23 04:00:00', '2024-03-24 17:00:00', '2024-03-16 00:00:00', '2024-03-19 14:00:00', '2024-03-21 20:00:00', '2024-03-24 05:00:00', '2024-03-19 09:00:00', '2024-03-18 03:00:00', '2024-03-20 14:00:00', '2024-03-15 01:00:00', '2024-03-23 07:00:00', '2024-03-21 00:00:00', '2024-03-16 07:00:00', '2024-03-23 21:00:00', '2024-03-23 20:00:00', '2024-03-23 11:00:00', '2024-03-22 11:00:00', '2024-03-21 17:00:00', '2024-03-20 09:00:00', '2024-03-16 09:00:00', '2024-03-15 04:00:00', '2024-03-15 17:00:00', '2024-03-23 18:00:00', '2024-03-24 10:00:00', '2024-03-16 06:00:00', '2024-03-24 22:00:00', '2024-03-15 22:00:00', '2024-03-18 01:00:00', '2024-03-16 23:00:00', '2024-03-22 06:00:00', '2024-03-21 13:00:00', '2024-03-15 09:00:00', '2024-03-21 01:00:00', '2024-03-15 06:00:00', '2024-03-22 17:00:00', '2024-03-20 17:00:00', '2024-03-24 07:00:00', '2024-03-19 11:00:00', '2024-03-21 07:00:00', '2024-03-19 19:00:00', '2024-03-20 08:00:00', '2024-03-20 15:00:00', '2024-03-18 08:00:00', '2024-03-23 02:00:00', '2024-03-23 16:00:00', '2024-03-18 17:00:00', '2024-03-24 04:00:00', '2024-03-21 10:00:00', '2024-03-15 10:00:00', '2024-03-15 14:00:00', '2024-03-20 01:00:00', '2024-03-24 06:00:00', '2024-03-16 15:00:00', '2024-03-15 19:00:00', '2024-03-24 20:00:00', '2024-03-15 11:00:00', '2024-03-23 23:00:00', '2024-03-24 16:00:00', '2024-03-21 06:00:00', '2024-03-24 19:00:00', '2024-03-24 11:00:00', '2024-03-22 20:00:00', '2024-03-19 20:00:00', '2024-03-17 18:00:00', '2024-03-18 18:00:00', '2024-03-18 22:00:00', '2024-03-19 17:00:00', '2024-03-16 13:00:00', '2024-03-21 05:00:00', '2024-03-22 19:00:00', '2024-03-23 13:00:00', '2024-03-24 00:00:00', '2024-03-20 10:00:00', '2024-03-21 14:00:00', '2024-03-17 15:00:00', '2024-03-23 03:00:00', '2024-03-17 08:00:00', '2024-03-17 16:00:00', '2024-03-19 04:00:00', '2024-03-21 22:00:00', '2024-03-16 20:00:00', '2024-03-22 07:00:00', '2024-03-18 23:00:00', '2024-03-18 07:00:00', '2024-03-18 09:00:00', '2024-03-17 00:00:00', '2024-03-16 16:00:00', '2024-03-23 22:00:00', '2024-03-23 06:00:00', '2024-03-16 05:00:00', '2024-03-20 00:00:00', '2024-03-18 04:00:00', '2024-03-21 16:00:00', '2024-03-19 01:00:00', '2024-03-18 05:00:00', '2024-03-17 09:00:00', '2024-03-23 00:00:00', '2024-03-21 03:00:00', '2024-03-20 02:00:00', '2024-03-22 00:00:00', '2024-03-15 05:00:00', '2024-03-22 16:00:00', '2024-03-17 10:00:00', '2024-03-15 07:00:00', '2024-03-23 08:00:00', '2024-03-18 13:00:00', '2024-03-15 23:00:00', '2024-03-22 18:00:00', '2024-03-19 00:00:00', '2024-03-20 06:00:00', '2024-03-15 08:00:00', '2024-03-17 11:00:00', '2024-03-21 12:00:00', '2024-03-21 04:00:00', '2024-03-16 03:00:00', '2024-03-17 05:00:00', '2024-03-18 00:00:00', '2024-03-19 12:00:00', '2024-03-17 06:00:00', '2024-03-19 05:00:00', '2024-03-20 18:00:00', '2024-03-15 12:00:00', '2024-03-20 20:00:00', '2024-03-22 12:00:00', '2024-03-22 04:00:00', '2024-03-16 19:00:00', '2024-03-17 23:00:00', '2024-03-20 22:00:00', '2024-03-22 13:00:00', '2024-03-24 21:00:00', '2024-03-22 21:00:00', '2024-03-16 21:00:00', '2024-03-15 21:00:00', '2024-03-17 22:00:00', '2024-03-17 17:00:00', '2024-03-23 10:00:00'}\n"
     ]
    }
   ],
   "source": [
    "print(added_times)"
   ]
  },
  {
   "cell_type": "code",
   "execution_count": 103,
   "metadata": {},
   "outputs": [],
   "source": [
    "predictions\n",
    "predictions.to_csv('pm25_predictions_for_next_7_days.csv', index=False)"
   ]
  }
 ],
 "metadata": {
  "kernelspec": {
   "display_name": "Python 3",
   "language": "python",
   "name": "python3"
  },
  "language_info": {
   "codemirror_mode": {
    "name": "ipython",
    "version": 3
   },
   "file_extension": ".py",
   "mimetype": "text/x-python",
   "name": "python",
   "nbconvert_exporter": "python",
   "pygments_lexer": "ipython3",
   "version": "3.11.3"
  }
 },
 "nbformat": 4,
 "nbformat_minor": 2
}
